{
  "nbformat": 4,
  "nbformat_minor": 0,
  "metadata": {
    "colab": {
      "provenance": [],
      "mount_file_id": "1IMF24OMAGbBuc7sCfeB07ivorx4aeMhk",
      "authorship_tag": "ABX9TyMeKuQHHLrFXFtw3pGsnEIb",
      "include_colab_link": true
    },
    "kernelspec": {
      "name": "python3",
      "display_name": "Python 3"
    },
    "language_info": {
      "name": "python"
    }
  },
  "cells": [
    {
      "cell_type": "markdown",
      "metadata": {
        "id": "view-in-github",
        "colab_type": "text"
      },
      "source": [
        "<a href=\"https://colab.research.google.com/github/rhpandit11/PySpark_CheatSheet/blob/main/pyspark_cheatSheet.ipynb\" target=\"_parent\"><img src=\"https://colab.research.google.com/assets/colab-badge.svg\" alt=\"Open In Colab\"/></a>"
      ]
    },
    {
      "cell_type": "code",
      "execution_count": null,
      "metadata": {
        "id": "3kcNDV9Y0aiT",
        "colab": {
          "base_uri": "https://localhost:8080/"
        },
        "outputId": "069b7233-0e9e-4ff0-de97-b0b10d95cdba"
      },
      "outputs": [
        {
          "output_type": "stream",
          "name": "stdout",
          "text": [
            "Collecting pyspark\n",
            "  Downloading pyspark-3.5.1.tar.gz (317.0 MB)\n",
            "\u001b[2K     \u001b[90m━━━━━━━━━━━━━━━━━━━━━━━━━━━━━━━━━━━━━━━━\u001b[0m \u001b[32m317.0/317.0 MB\u001b[0m \u001b[31m4.5 MB/s\u001b[0m eta \u001b[36m0:00:00\u001b[0m\n",
            "\u001b[?25h  Preparing metadata (setup.py) ... \u001b[?25l\u001b[?25hdone\n",
            "Requirement already satisfied: py4j==0.10.9.7 in /usr/local/lib/python3.10/dist-packages (from pyspark) (0.10.9.7)\n",
            "Building wheels for collected packages: pyspark\n",
            "  Building wheel for pyspark (setup.py) ... \u001b[?25l\u001b[?25hdone\n",
            "  Created wheel for pyspark: filename=pyspark-3.5.1-py2.py3-none-any.whl size=317488491 sha256=6bf3c1fb055c1b0a9679018437912b10f06a2354dbe470d57709698410ea4e93\n",
            "  Stored in directory: /root/.cache/pip/wheels/80/1d/60/2c256ed38dddce2fdd93be545214a63e02fbd8d74fb0b7f3a6\n",
            "Successfully built pyspark\n",
            "Installing collected packages: pyspark\n",
            "Successfully installed pyspark-3.5.1\n"
          ]
        }
      ],
      "source": [
        "!pip install pyspark"
      ]
    },
    {
      "cell_type": "code",
      "source": [
        "from pyspark.sql import SparkSession\n",
        "\n",
        "spark = SparkSession.builder\\\n",
        "        .master(\"local[*]\")\\\n",
        "        .appName('pyspark_cheatsheet')\\\n",
        "        .getOrCreate()"
      ],
      "metadata": {
        "id": "ym7dYukK1t99"
      },
      "execution_count": null,
      "outputs": []
    },
    {
      "cell_type": "markdown",
      "source": [
        "\n",
        "Loading data stored in filesystems or databases, and saving it.\n"
      ],
      "metadata": {
        "id": "tVbF6KpU182x"
      }
    },
    {
      "cell_type": "code",
      "source": [
        "#Load a DataFrame from CSV\n",
        "df = spark.read.format(\"csv\").option(\"header\", True).load(\"/content/drive/MyDrive/pyspark/practice-file/auto-mpg.csv\")\n",
        "df.show(5)"
      ],
      "metadata": {
        "colab": {
          "base_uri": "https://localhost:8080/"
        },
        "id": "dR6CUX8312T5",
        "outputId": "75eb597d-a2a9-4f8d-f4c2-9fa06e6996b8"
      },
      "execution_count": null,
      "outputs": [
        {
          "output_type": "stream",
          "name": "stdout",
          "text": [
            "+----+---------+------------+----------+------+------------+---------+------+--------------------+\n",
            "| mpg|cylinders|displacement|horsepower|weight|acceleration|modelyear|origin|             carname|\n",
            "+----+---------+------------+----------+------+------------+---------+------+--------------------+\n",
            "|18.0|        8|       307.0|     130.0| 3504.|        12.0|       70|     1|chevrolet chevell...|\n",
            "|15.0|        8|       350.0|     165.0| 3693.|        11.5|       70|     1|   buick skylark 320|\n",
            "|18.0|        8|       318.0|     150.0| 3436.|        11.0|       70|     1|  plymouth satellite|\n",
            "|16.0|        8|       304.0|     150.0| 3433.|        12.0|       70|     1|       amc rebel sst|\n",
            "|17.0|        8|       302.0|     140.0| 3449.|        10.5|       70|     1|         ford torino|\n",
            "+----+---------+------------+----------+------+------------+---------+------+--------------------+\n",
            "only showing top 5 rows\n",
            "\n"
          ]
        }
      ]
    },
    {
      "cell_type": "code",
      "source": [
        "#Load a DataFrame from a Tab Separated Value (TSV) file\n",
        "df = (\n",
        "    spark.read.format(\"csv\")\n",
        "    .option(\"header\", True)\n",
        "    .option(\"sep\", \"\\t\")\n",
        "    .load(\"/content/drive/MyDrive/pyspark/practice-file/auto-mpg.tsv\")\n",
        ")\n",
        "df.show(5)\n"
      ],
      "metadata": {
        "id": "OG5wwYCI4i7n",
        "colab": {
          "base_uri": "https://localhost:8080/"
        },
        "outputId": "bf4dbede-b333-4786-c50f-ad6e0a731ca9"
      },
      "execution_count": 5,
      "outputs": [
        {
          "output_type": "stream",
          "name": "stdout",
          "text": [
            "+----+---------+------------+----------+------+------------+---------+------+--------------------+\n",
            "| mpg|cylinders|displacement|horsepower|weight|acceleration|modelyear|origin|             carname|\n",
            "+----+---------+------------+----------+------+------------+---------+------+--------------------+\n",
            "|18.0|        8|       307.0|     130.0| 3504.|        12.0|       70|     1|chevrolet chevell...|\n",
            "|15.0|        8|       350.0|     165.0| 3693.|        11.5|       70|     1|   buick skylark 320|\n",
            "|18.0|        8|       318.0|     150.0| 3436.|        11.0|       70|     1|  plymouth satellite|\n",
            "|16.0|        8|       304.0|     150.0| 3433.|        12.0|       70|     1|       amc rebel sst|\n",
            "|17.0|        8|       302.0|     140.0| 3449.|        10.5|       70|     1|         ford torino|\n",
            "+----+---------+------------+----------+------+------------+---------+------+--------------------+\n",
            "only showing top 5 rows\n",
            "\n"
          ]
        }
      ]
    },
    {
      "cell_type": "code",
      "source": [
        "#Save a DataFrame in CSV format\n",
        "auto_df.write.csv(\"output.csv\")"
      ],
      "metadata": {
        "id": "P5q7unP74qep"
      },
      "execution_count": null,
      "outputs": []
    },
    {
      "cell_type": "code",
      "source": [
        "#Load a DataFrame from Parquet\n",
        "df = spark.read.format(\"parquet\").load(\"/content/drive/MyDrive/pyspark/practice-file/auto-mpg.parquet\")\n",
        "df.show(5)"
      ],
      "metadata": {
        "colab": {
          "base_uri": "https://localhost:8080/"
        },
        "id": "1pMV8oIV5ulm",
        "outputId": "2c482e3b-1ddd-4146-e7be-f5e1389b4ad0"
      },
      "execution_count": 7,
      "outputs": [
        {
          "output_type": "stream",
          "name": "stdout",
          "text": [
            "+----+---------+------------+----------+------+------------+---------+------+--------------------+\n",
            "| mpg|cylinders|displacement|horsepower|weight|acceleration|modelyear|origin|             carname|\n",
            "+----+---------+------------+----------+------+------------+---------+------+--------------------+\n",
            "|18.0|        8|       307.0|     130.0| 3504.|        12.0|       70|     1|chevrolet chevell...|\n",
            "|15.0|        8|       350.0|     165.0| 3693.|        11.5|       70|     1|   buick skylark 320|\n",
            "|18.0|        8|       318.0|     150.0| 3436.|        11.0|       70|     1|  plymouth satellite|\n",
            "|16.0|        8|       304.0|     150.0| 3433.|        12.0|       70|     1|       amc rebel sst|\n",
            "|17.0|        8|       302.0|     140.0| 3449.|        10.5|       70|     1|         ford torino|\n",
            "+----+---------+------------+----------+------+------------+---------+------+--------------------+\n",
            "only showing top 5 rows\n",
            "\n"
          ]
        }
      ]
    },
    {
      "cell_type": "code",
      "source": [
        "#Save a DataFrame in Parquet format\n",
        "auto_df.write.parquet(\"output.parquet\")"
      ],
      "metadata": {
        "id": "vU04SVdh6U0H"
      },
      "execution_count": null,
      "outputs": []
    },
    {
      "cell_type": "code",
      "source": [
        "#Load a DataFrame from JSON Lines (jsonl) Formatted Data\n",
        "df = spark.read.json(\"/content/drive/MyDrive/pyspark/practice-file/weblog.jsonl\")\n",
        "df.show(5)\n"
      ],
      "metadata": {
        "colab": {
          "base_uri": "https://localhost:8080/"
        },
        "id": "DD_VpfhT69NN",
        "outputId": "95196bdf-b4c7-447a-eac5-1bb822220a69"
      },
      "execution_count": 8,
      "outputs": [
        {
          "output_type": "stream",
          "name": "stdout",
          "text": [
            "+--------------------+----------+--------+----------+--------------------+------+\n",
            "|              client|   country| session| timestamp|                 uri|  user|\n",
            "+--------------------+----------+--------+----------+--------------------+------+\n",
            "|{false, Mozilla/5...|Bangladesh|55fa8213| 869196249|http://larson-har...|dde312|\n",
            "|{true, Mozilla/5....|      Niue|2fcd4a83|1031238717|http://hahn.com/p...|9d00b9|\n",
            "|{true, Mozilla/5....|    Rwanda|013b996e| 628683372|http://mann-cruz....|1339d4|\n",
            "|{false, Mozilla/5...|   Austria|07e8a71a|1043628668|https://www.jones...|966312|\n",
            "|{false, Mozilla/5...|    Belize|b23d05d8| 192738669|http://rose-colem...|2af1e1|\n",
            "+--------------------+----------+--------+----------+--------------------+------+\n",
            "only showing top 5 rows\n",
            "\n"
          ]
        }
      ]
    },
    {
      "cell_type": "code",
      "source": [
        "#Save a DataFrame into a Hive catalog table\n",
        "auto_df.write.mode(\"overwrite\").saveAsTable(\"autompg\")"
      ],
      "metadata": {
        "id": "VHKUTJyb7TS7"
      },
      "execution_count": null,
      "outputs": []
    },
    {
      "cell_type": "code",
      "source": [
        "#Load a Hive catalog table into a DataFrame\n",
        "df = spark.table(\"autompg\")\n",
        "df.show()"
      ],
      "metadata": {
        "id": "7Xii6LjW7aYc"
      },
      "execution_count": null,
      "outputs": []
    },
    {
      "cell_type": "code",
      "source": [
        "#Load a DataFrame from a SQL query\n",
        "df = sqlContext.sql(\n",
        "    \"select carname, mpg, horsepower from autompg where horsepower > 100 and mpg > 25\"\n",
        ")\n",
        "df.show()"
      ],
      "metadata": {
        "id": "rtGarN-08dqJ"
      },
      "execution_count": null,
      "outputs": []
    },
    {
      "cell_type": "code",
      "source": [
        "#Load a CSV file from Amazon S3\n",
        "import configparser\n",
        "import os\n",
        "\n",
        "config = configparser.ConfigParser()\n",
        "config.read(os.path.expanduser(\"~/.aws/credentials\"))\n",
        "access_key = config.get(\"default\", \"aws_access_key_id\").replace('\"', \"\")\n",
        "secret_key = config.get(\"default\", \"aws_secret_access_key\").replace('\"', \"\")\n",
        "\n",
        "# Requires compatible hadoop-aws and aws-java-sdk-bundle JARs.\n",
        "spark.conf.set(\n",
        "    \"fs.s3a.aws.credentials.provider\",\n",
        "    \"org.apache.hadoop.fs.s3a.SimpleAWSCredentialsProvider\",\n",
        ")\n",
        "spark.conf.set(\"fs.s3a.access.key\", access_key)\n",
        "spark.conf.set(\"fs.s3a.secret.key\", secret_key)\n",
        "\n",
        "df = (\n",
        "    spark.read.format(\"csv\")\n",
        "    .option(\"header\", True)\n",
        "    .load(\"s3a://cheatsheet111/auto-mpg.csv\")\n",
        ")"
      ],
      "metadata": {
        "id": "ajakmYPr8lZS"
      },
      "execution_count": null,
      "outputs": []
    },
    {
      "cell_type": "code",
      "source": [
        "#Write a DataFrame to a Postgres table\n",
        "pg_database = os.environ.get(\"PGDATABASE\") or \"postgres\"\n",
        "pg_host = os.environ.get(\"PGHOST\") or \"localhost\"\n",
        "pg_password = os.environ.get(\"PGPASSWORD\") or \"password\"\n",
        "pg_user = os.environ.get(\"PGUSER\") or \"postgres\"\n",
        "table = \"autompg\"\n",
        "\n",
        "properties = {\n",
        "    \"driver\": \"org.postgresql.Driver\",\n",
        "    \"user\": pg_user,\n",
        "    \"password\": pg_password,\n",
        "}\n",
        "url = f\"jdbc:postgresql://{pg_host}:5432/{pg_database}\"\n",
        "auto_df.write.jdbc(url=url, table=table, mode=\"Append\", properties=properties)"
      ],
      "metadata": {
        "id": "F1NO4ifT-FE0"
      },
      "execution_count": null,
      "outputs": []
    },
    {
      "cell_type": "code",
      "source": [
        "#Read a Postgres table into a DataFrame\n",
        "pg_database = os.environ.get(\"PGDATABASE\") or \"postgres\"\n",
        "pg_host = os.environ.get(\"PGHOST\") or \"localhost\"\n",
        "pg_password = os.environ.get(\"PGPASSWORD\") or \"password\"\n",
        "pg_user = os.environ.get(\"PGUSER\") or \"postgres\"\n",
        "table = \"autompg\"\n",
        "\n",
        "properties = {\n",
        "    \"driver\": \"org.postgresql.Driver\",\n",
        "    \"user\": pg_user,\n",
        "    \"password\": pg_password,\n",
        "}\n",
        "url = f\"jdbc:postgresql://{pg_host}:5432/{pg_database}\"\n",
        "df = spark.read.jdbc(url=url, table=table, properties=properties)\n",
        "df.show()"
      ],
      "metadata": {
        "id": "Lh_6SlyD-QFo"
      },
      "execution_count": null,
      "outputs": []
    },
    {
      "cell_type": "markdown",
      "source": [
        "\n",
        "# Special data handling scenarios.\n"
      ],
      "metadata": {
        "id": "B9GjLbxq-XrS"
      }
    },
    {
      "cell_type": "code",
      "source": [
        "#Provide the schema when loading a DataFrame from CSV\n",
        "from pyspark.sql.types import (\n",
        "    DoubleType,\n",
        "    IntegerType,\n",
        "    StringType,\n",
        "    StructField,\n",
        "    StructType,\n",
        ")\n",
        "\n",
        "schema = StructType(\n",
        "    [\n",
        "        StructField(\"mpg\", DoubleType(), True),\n",
        "        StructField(\"cylinders\", IntegerType(), True),\n",
        "        StructField(\"displacement\", DoubleType(), True),\n",
        "        StructField(\"horsepower\", DoubleType(), True),\n",
        "        StructField(\"weight\", DoubleType(), True),\n",
        "        StructField(\"acceleration\", DoubleType(), True),\n",
        "        StructField(\"modelyear\", IntegerType(), True),\n",
        "        StructField(\"origin\", IntegerType(), True),\n",
        "        StructField(\"carname\", StringType(), True),\n",
        "    ]\n",
        ")\n",
        "df = (\n",
        "    spark.read.format(\"csv\")\n",
        "    .option(\"header\", \"true\")\n",
        "    .schema(schema)\n",
        "    .load(\"/content/drive/MyDrive/pyspark/practice-file/auto-mpg.csv\")\n",
        ")\n",
        "df.show(5)"
      ],
      "metadata": {
        "colab": {
          "base_uri": "https://localhost:8080/"
        },
        "id": "MFi-IasO-Uwg",
        "outputId": "1aaac8b5-3074-45eb-b53c-06df5ac28a98"
      },
      "execution_count": 15,
      "outputs": [
        {
          "output_type": "stream",
          "name": "stdout",
          "text": [
            "+----+---------+------------+----------+------+------------+---------+------+--------------------+\n",
            "| mpg|cylinders|displacement|horsepower|weight|acceleration|modelyear|origin|             carname|\n",
            "+----+---------+------------+----------+------+------------+---------+------+--------------------+\n",
            "|18.0|        8|       307.0|     130.0|3504.0|        12.0|       70|     1|chevrolet chevell...|\n",
            "|15.0|        8|       350.0|     165.0|3693.0|        11.5|       70|     1|   buick skylark 320|\n",
            "|18.0|        8|       318.0|     150.0|3436.0|        11.0|       70|     1|  plymouth satellite|\n",
            "|16.0|        8|       304.0|     150.0|3433.0|        12.0|       70|     1|       amc rebel sst|\n",
            "|17.0|        8|       302.0|     140.0|3449.0|        10.5|       70|     1|         ford torino|\n",
            "+----+---------+------------+----------+------+------------+---------+------+--------------------+\n",
            "only showing top 5 rows\n",
            "\n"
          ]
        }
      ]
    },
    {
      "cell_type": "code",
      "source": [
        "#Save a DataFrame to CSV, overwriting existing data\n",
        "auto_df.write.mode(\"overwrite\").csv(\"output.csv\")"
      ],
      "metadata": {
        "id": "JpHiVqX8DL17"
      },
      "execution_count": null,
      "outputs": []
    },
    {
      "cell_type": "code",
      "source": [
        "#Save a DataFrame to CSV with a header\n",
        "auto_df.coalesce(1).write.csv(\"header.csv\", header=\"true\")"
      ],
      "metadata": {
        "id": "Vgfr4fKcDS8r"
      },
      "execution_count": null,
      "outputs": []
    },
    {
      "cell_type": "code",
      "source": [
        "#Save a DataFrame in a single CSV file\n",
        "auto_df.coalesce(1).write.csv(\"single.csv\")"
      ],
      "metadata": {
        "id": "4FY1p3ZqDZkc"
      },
      "execution_count": null,
      "outputs": []
    },
    {
      "cell_type": "code",
      "source": [
        "#Save DataFrame as a dynamic partitioned table\n",
        "spark.conf.set(\"spark.sql.sources.partitionOverwriteMode\", \"dynamic\")\n",
        "auto_df.write.mode(\"append\").partitionBy(\"modelyear\").saveAsTable(\n",
        "    \"autompg_partitioned\"\n",
        ")"
      ],
      "metadata": {
        "id": "4GWQnr-LDeUM"
      },
      "execution_count": null,
      "outputs": []
    },
    {
      "cell_type": "code",
      "source": [
        "#Overwrite specific partitions\n",
        "spark.conf.set(\"spark.sql.sources.partitionOverwriteMode\", \"dynamic\")\n",
        "your_dataframe.write.mode(\"overwrite\").insertInto(\"your_table\")"
      ],
      "metadata": {
        "id": "aLpmynMPDlVF"
      },
      "execution_count": null,
      "outputs": []
    },
    {
      "cell_type": "code",
      "source": [
        "#Load a CSV file with a money column into a DataFrame\n",
        "from pyspark.sql.functions import udf\n",
        "from pyspark.sql.types import DecimalType\n",
        "from decimal import Decimal\n",
        "\n",
        "# Load the text file.\n",
        "df = (\n",
        "    spark.read.format(\"csv\")\n",
        "    .option(\"header\", True)\n",
        "    .load(\"/content/drive/MyDrive/pyspark/practice-file/customer_spend.csv\")\n",
        ")\n",
        "\n",
        "# Convert with a hardcoded custom UDF.\n",
        "money_udf = udf(lambda x: Decimal(x[1:].replace(\",\", \"\")), DecimalType(8, 4))\n",
        "money1 = df.withColumn(\"spend_dollars\", money_udf(df.spend_dollars))\n",
        "\n",
        "# Convert with the money_parser library (much safer).\n",
        "from money_parser import price_str\n",
        "\n",
        "money_convert = udf(\n",
        "    lambda x: Decimal(price_str(x)) if x is not None else None,\n",
        "    DecimalType(8, 4),\n",
        ")\n",
        "df = df.withColumn(\"spend_dollars\", money_convert(df.spend_dollars))\n",
        "df.show()\n",
        ""
      ],
      "metadata": {
        "id": "aD3yoZw6DzI8"
      },
      "execution_count": null,
      "outputs": []
    },
    {
      "cell_type": "markdown",
      "source": [
        "\n",
        "# Adding, removing and modifying DataFrame columns.\n"
      ],
      "metadata": {
        "id": "truZBLmuFC5v"
      }
    },
    {
      "cell_type": "code",
      "source": [
        "#Add a new column to a DataFrame\n",
        "\n",
        "from pyspark.sql.functions import upper, lower\n",
        "df = (\n",
        "    spark.read.format(\"csv\")\n",
        "    .option(\"header\", True)\n",
        "    .load(\"/content/drive/MyDrive/pyspark/practice-file/auto-mpg.csv\")\n",
        ")\n",
        "auto_df = df.withColumn(\"upper\", upper(df.carname)).withColumn(\n",
        "    \"lower\", lower(df.carname)\n",
        ")\n",
        "auto_df.show(5)"
      ],
      "metadata": {
        "colab": {
          "base_uri": "https://localhost:8080/"
        },
        "id": "-RARpzKAE-Sx",
        "outputId": "95716eab-f053-494e-8e81-4c77e97538e7"
      },
      "execution_count": 22,
      "outputs": [
        {
          "output_type": "stream",
          "name": "stdout",
          "text": [
            "+----+---------+------------+----------+------+------------+---------+------+--------------------+--------------------+--------------------+\n",
            "| mpg|cylinders|displacement|horsepower|weight|acceleration|modelyear|origin|             carname|               upper|               lower|\n",
            "+----+---------+------------+----------+------+------------+---------+------+--------------------+--------------------+--------------------+\n",
            "|18.0|        8|       307.0|     130.0| 3504.|        12.0|       70|     1|chevrolet chevell...|CHEVROLET CHEVELL...|chevrolet chevell...|\n",
            "|15.0|        8|       350.0|     165.0| 3693.|        11.5|       70|     1|   buick skylark 320|   BUICK SKYLARK 320|   buick skylark 320|\n",
            "|18.0|        8|       318.0|     150.0| 3436.|        11.0|       70|     1|  plymouth satellite|  PLYMOUTH SATELLITE|  plymouth satellite|\n",
            "|16.0|        8|       304.0|     150.0| 3433.|        12.0|       70|     1|       amc rebel sst|       AMC REBEL SST|       amc rebel sst|\n",
            "|17.0|        8|       302.0|     140.0| 3449.|        10.5|       70|     1|         ford torino|         FORD TORINO|         ford torino|\n",
            "+----+---------+------------+----------+------+------------+---------+------+--------------------+--------------------+--------------------+\n",
            "only showing top 5 rows\n",
            "\n"
          ]
        }
      ]
    },
    {
      "cell_type": "code",
      "source": [
        "#Modify a DataFrame column\n",
        "\n",
        "from pyspark.sql.functions import col, concat, lit\n",
        "\n",
        "df = auto_df.withColumn(\"modelyear\", concat(lit(\"19\"), col(\"modelyear\")))\n",
        "df.show(5)"
      ],
      "metadata": {
        "colab": {
          "base_uri": "https://localhost:8080/"
        },
        "id": "iOgP97AtGsSL",
        "outputId": "36027626-224d-4a1f-fa54-abc889f89264"
      },
      "execution_count": 23,
      "outputs": [
        {
          "output_type": "stream",
          "name": "stdout",
          "text": [
            "+----+---------+------------+----------+------+------------+---------+------+--------------------+--------------------+--------------------+\n",
            "| mpg|cylinders|displacement|horsepower|weight|acceleration|modelyear|origin|             carname|               upper|               lower|\n",
            "+----+---------+------------+----------+------+------------+---------+------+--------------------+--------------------+--------------------+\n",
            "|18.0|        8|       307.0|     130.0| 3504.|        12.0|     1970|     1|chevrolet chevell...|CHEVROLET CHEVELL...|chevrolet chevell...|\n",
            "|15.0|        8|       350.0|     165.0| 3693.|        11.5|     1970|     1|   buick skylark 320|   BUICK SKYLARK 320|   buick skylark 320|\n",
            "|18.0|        8|       318.0|     150.0| 3436.|        11.0|     1970|     1|  plymouth satellite|  PLYMOUTH SATELLITE|  plymouth satellite|\n",
            "|16.0|        8|       304.0|     150.0| 3433.|        12.0|     1970|     1|       amc rebel sst|       AMC REBEL SST|       amc rebel sst|\n",
            "|17.0|        8|       302.0|     140.0| 3449.|        10.5|     1970|     1|         ford torino|         FORD TORINO|         ford torino|\n",
            "+----+---------+------------+----------+------+------------+---------+------+--------------------+--------------------+--------------------+\n",
            "only showing top 5 rows\n",
            "\n"
          ]
        }
      ]
    },
    {
      "cell_type": "code",
      "source": [
        "#Add a column with multiple conditions\n",
        "from pyspark.sql.functions import col, when\n",
        "\n",
        "df = auto_df.withColumn(\n",
        "    \"mpg_class\",\n",
        "    when(col(\"mpg\") <= 20, \"low\")\n",
        "    .when(col(\"mpg\") <= 30, \"mid\")\n",
        "    .when(col(\"mpg\") <= 40, \"high\")\n",
        "    .otherwise(\"very high\"),\n",
        ")\n",
        "df.show(5)"
      ],
      "metadata": {
        "colab": {
          "base_uri": "https://localhost:8080/"
        },
        "id": "eWCrBYsyHBBx",
        "outputId": "d0f023c1-b6d4-476a-b3a0-eccfb47c93b8"
      },
      "execution_count": 25,
      "outputs": [
        {
          "output_type": "stream",
          "name": "stdout",
          "text": [
            "+----+---------+------------+----------+------+------------+---------+------+--------------------+--------------------+--------------------+---------+\n",
            "| mpg|cylinders|displacement|horsepower|weight|acceleration|modelyear|origin|             carname|               upper|               lower|mpg_class|\n",
            "+----+---------+------------+----------+------+------------+---------+------+--------------------+--------------------+--------------------+---------+\n",
            "|18.0|        8|       307.0|     130.0| 3504.|        12.0|       70|     1|chevrolet chevell...|CHEVROLET CHEVELL...|chevrolet chevell...|      low|\n",
            "|15.0|        8|       350.0|     165.0| 3693.|        11.5|       70|     1|   buick skylark 320|   BUICK SKYLARK 320|   buick skylark 320|      low|\n",
            "|18.0|        8|       318.0|     150.0| 3436.|        11.0|       70|     1|  plymouth satellite|  PLYMOUTH SATELLITE|  plymouth satellite|      low|\n",
            "|16.0|        8|       304.0|     150.0| 3433.|        12.0|       70|     1|       amc rebel sst|       AMC REBEL SST|       amc rebel sst|      low|\n",
            "|17.0|        8|       302.0|     140.0| 3449.|        10.5|       70|     1|         ford torino|         FORD TORINO|         ford torino|      low|\n",
            "+----+---------+------------+----------+------+------------+---------+------+--------------------+--------------------+--------------------+---------+\n",
            "only showing top 5 rows\n",
            "\n"
          ]
        }
      ]
    },
    {
      "cell_type": "code",
      "source": [
        "#Add a constant column\n",
        "from pyspark.sql.functions import lit\n",
        "\n",
        "df = auto_df.withColumn(\"one\", lit(1))\n",
        "df.show(5)"
      ],
      "metadata": {
        "colab": {
          "base_uri": "https://localhost:8080/"
        },
        "id": "2XGyyafMHMJY",
        "outputId": "ace289cf-8e42-4af6-9553-c449e2786f1a"
      },
      "execution_count": 27,
      "outputs": [
        {
          "output_type": "stream",
          "name": "stdout",
          "text": [
            "+----+---------+------------+----------+------+------------+---------+------+--------------------+--------------------+--------------------+---+\n",
            "| mpg|cylinders|displacement|horsepower|weight|acceleration|modelyear|origin|             carname|               upper|               lower|one|\n",
            "+----+---------+------------+----------+------+------------+---------+------+--------------------+--------------------+--------------------+---+\n",
            "|18.0|        8|       307.0|     130.0| 3504.|        12.0|       70|     1|chevrolet chevell...|CHEVROLET CHEVELL...|chevrolet chevell...|  1|\n",
            "|15.0|        8|       350.0|     165.0| 3693.|        11.5|       70|     1|   buick skylark 320|   BUICK SKYLARK 320|   buick skylark 320|  1|\n",
            "|18.0|        8|       318.0|     150.0| 3436.|        11.0|       70|     1|  plymouth satellite|  PLYMOUTH SATELLITE|  plymouth satellite|  1|\n",
            "|16.0|        8|       304.0|     150.0| 3433.|        12.0|       70|     1|       amc rebel sst|       AMC REBEL SST|       amc rebel sst|  1|\n",
            "|17.0|        8|       302.0|     140.0| 3449.|        10.5|       70|     1|         ford torino|         FORD TORINO|         ford torino|  1|\n",
            "+----+---------+------------+----------+------+------------+---------+------+--------------------+--------------------+--------------------+---+\n",
            "only showing top 5 rows\n",
            "\n"
          ]
        }
      ]
    },
    {
      "cell_type": "code",
      "source": [
        "#Concatenate columns\n",
        "from pyspark.sql.functions import concat, col, lit\n",
        "\n",
        "df = auto_df.withColumn(\n",
        "    \"concatenated\", concat(col(\"cylinders\"), lit(\"_\"), col(\"mpg\"))\n",
        ")\n",
        "df.show(5)"
      ],
      "metadata": {
        "colab": {
          "base_uri": "https://localhost:8080/"
        },
        "id": "u_doUnqtHTjA",
        "outputId": "c7e4940b-246d-4097-ce2a-1824d5e16642"
      },
      "execution_count": 29,
      "outputs": [
        {
          "output_type": "stream",
          "name": "stdout",
          "text": [
            "+----+---------+------------+----------+------+------------+---------+------+--------------------+--------------------+--------------------+------------+\n",
            "| mpg|cylinders|displacement|horsepower|weight|acceleration|modelyear|origin|             carname|               upper|               lower|concatenated|\n",
            "+----+---------+------------+----------+------+------------+---------+------+--------------------+--------------------+--------------------+------------+\n",
            "|18.0|        8|       307.0|     130.0| 3504.|        12.0|       70|     1|chevrolet chevell...|CHEVROLET CHEVELL...|chevrolet chevell...|      8_18.0|\n",
            "|15.0|        8|       350.0|     165.0| 3693.|        11.5|       70|     1|   buick skylark 320|   BUICK SKYLARK 320|   buick skylark 320|      8_15.0|\n",
            "|18.0|        8|       318.0|     150.0| 3436.|        11.0|       70|     1|  plymouth satellite|  PLYMOUTH SATELLITE|  plymouth satellite|      8_18.0|\n",
            "|16.0|        8|       304.0|     150.0| 3433.|        12.0|       70|     1|       amc rebel sst|       AMC REBEL SST|       amc rebel sst|      8_16.0|\n",
            "|17.0|        8|       302.0|     140.0| 3449.|        10.5|       70|     1|         ford torino|         FORD TORINO|         ford torino|      8_17.0|\n",
            "+----+---------+------------+----------+------+------------+---------+------+--------------------+--------------------+--------------------+------------+\n",
            "only showing top 5 rows\n",
            "\n"
          ]
        }
      ]
    },
    {
      "cell_type": "code",
      "source": [
        "#Drop a column\n",
        "df = auto_df.drop(\"horsepower\")\n",
        "df.show(5)"
      ],
      "metadata": {
        "colab": {
          "base_uri": "https://localhost:8080/"
        },
        "id": "evYEuw76HdAZ",
        "outputId": "135f5542-6515-46c5-8400-c83b92775ae9"
      },
      "execution_count": 31,
      "outputs": [
        {
          "output_type": "stream",
          "name": "stdout",
          "text": [
            "+----+---------+------------+------+------------+---------+------+--------------------+--------------------+--------------------+\n",
            "| mpg|cylinders|displacement|weight|acceleration|modelyear|origin|             carname|               upper|               lower|\n",
            "+----+---------+------------+------+------------+---------+------+--------------------+--------------------+--------------------+\n",
            "|18.0|        8|       307.0| 3504.|        12.0|       70|     1|chevrolet chevell...|CHEVROLET CHEVELL...|chevrolet chevell...|\n",
            "|15.0|        8|       350.0| 3693.|        11.5|       70|     1|   buick skylark 320|   BUICK SKYLARK 320|   buick skylark 320|\n",
            "|18.0|        8|       318.0| 3436.|        11.0|       70|     1|  plymouth satellite|  PLYMOUTH SATELLITE|  plymouth satellite|\n",
            "|16.0|        8|       304.0| 3433.|        12.0|       70|     1|       amc rebel sst|       AMC REBEL SST|       amc rebel sst|\n",
            "|17.0|        8|       302.0| 3449.|        10.5|       70|     1|         ford torino|         FORD TORINO|         ford torino|\n",
            "+----+---------+------------+------+------------+---------+------+--------------------+--------------------+--------------------+\n",
            "only showing top 5 rows\n",
            "\n"
          ]
        }
      ]
    },
    {
      "cell_type": "code",
      "source": [
        "#Change a column name\n",
        "df = auto_df.withColumnRenamed(\"horsepower\", \"horses\")\n",
        "df.show(5)"
      ],
      "metadata": {
        "colab": {
          "base_uri": "https://localhost:8080/"
        },
        "id": "V7Dv9pZAHj1q",
        "outputId": "109f8a24-47a2-49ef-e324-7d9793aa5d68"
      },
      "execution_count": 33,
      "outputs": [
        {
          "output_type": "stream",
          "name": "stdout",
          "text": [
            "+----+---------+------------+------+------+------------+---------+------+--------------------+--------------------+--------------------+\n",
            "| mpg|cylinders|displacement|horses|weight|acceleration|modelyear|origin|             carname|               upper|               lower|\n",
            "+----+---------+------------+------+------+------------+---------+------+--------------------+--------------------+--------------------+\n",
            "|18.0|        8|       307.0| 130.0| 3504.|        12.0|       70|     1|chevrolet chevell...|CHEVROLET CHEVELL...|chevrolet chevell...|\n",
            "|15.0|        8|       350.0| 165.0| 3693.|        11.5|       70|     1|   buick skylark 320|   BUICK SKYLARK 320|   buick skylark 320|\n",
            "|18.0|        8|       318.0| 150.0| 3436.|        11.0|       70|     1|  plymouth satellite|  PLYMOUTH SATELLITE|  plymouth satellite|\n",
            "|16.0|        8|       304.0| 150.0| 3433.|        12.0|       70|     1|       amc rebel sst|       AMC REBEL SST|       amc rebel sst|\n",
            "|17.0|        8|       302.0| 140.0| 3449.|        10.5|       70|     1|         ford torino|         FORD TORINO|         ford torino|\n",
            "+----+---------+------------+------+------+------------+---------+------+--------------------+--------------------+--------------------+\n",
            "only showing top 5 rows\n",
            "\n"
          ]
        }
      ]
    },
    {
      "cell_type": "code",
      "source": [
        "#Change multiple column names\n",
        "df = auto_df.withColumnRenamed(\"horsepower\", \"horses\").withColumnRenamed(\n",
        "    \"modelyear\", \"year\"\n",
        ")\n",
        "df.show(5)"
      ],
      "metadata": {
        "colab": {
          "base_uri": "https://localhost:8080/"
        },
        "id": "ra_W54ebHq_o",
        "outputId": "1a4f7fd6-bff1-48cd-836c-438b397142db"
      },
      "execution_count": 35,
      "outputs": [
        {
          "output_type": "stream",
          "name": "stdout",
          "text": [
            "+----+---------+------------+------+------+------------+----+------+--------------------+--------------------+--------------------+\n",
            "| mpg|cylinders|displacement|horses|weight|acceleration|year|origin|             carname|               upper|               lower|\n",
            "+----+---------+------------+------+------+------------+----+------+--------------------+--------------------+--------------------+\n",
            "|18.0|        8|       307.0| 130.0| 3504.|        12.0|  70|     1|chevrolet chevell...|CHEVROLET CHEVELL...|chevrolet chevell...|\n",
            "|15.0|        8|       350.0| 165.0| 3693.|        11.5|  70|     1|   buick skylark 320|   BUICK SKYLARK 320|   buick skylark 320|\n",
            "|18.0|        8|       318.0| 150.0| 3436.|        11.0|  70|     1|  plymouth satellite|  PLYMOUTH SATELLITE|  plymouth satellite|\n",
            "|16.0|        8|       304.0| 150.0| 3433.|        12.0|  70|     1|       amc rebel sst|       AMC REBEL SST|       amc rebel sst|\n",
            "|17.0|        8|       302.0| 140.0| 3449.|        10.5|  70|     1|         ford torino|         FORD TORINO|         ford torino|\n",
            "+----+---------+------------+------+------+------------+----+------+--------------------+--------------------+--------------------+\n",
            "only showing top 5 rows\n",
            "\n"
          ]
        }
      ]
    },
    {
      "cell_type": "code",
      "source": [
        "#Change all column names at once\n",
        "df = auto_df.toDF(*[\"X\" + name for name in auto_df.columns])\n",
        "df.show(5)"
      ],
      "metadata": {
        "colab": {
          "base_uri": "https://localhost:8080/"
        },
        "id": "LgLuVsMaH0iY",
        "outputId": "434075a9-42ec-4418-ae63-a2d5d9a0c6c8"
      },
      "execution_count": 37,
      "outputs": [
        {
          "output_type": "stream",
          "name": "stdout",
          "text": [
            "+----+----------+-------------+-----------+-------+-------------+----------+-------+--------------------+--------------------+--------------------+\n",
            "|Xmpg|Xcylinders|Xdisplacement|Xhorsepower|Xweight|Xacceleration|Xmodelyear|Xorigin|            Xcarname|              Xupper|              Xlower|\n",
            "+----+----------+-------------+-----------+-------+-------------+----------+-------+--------------------+--------------------+--------------------+\n",
            "|18.0|         8|        307.0|      130.0|  3504.|         12.0|        70|      1|chevrolet chevell...|CHEVROLET CHEVELL...|chevrolet chevell...|\n",
            "|15.0|         8|        350.0|      165.0|  3693.|         11.5|        70|      1|   buick skylark 320|   BUICK SKYLARK 320|   buick skylark 320|\n",
            "|18.0|         8|        318.0|      150.0|  3436.|         11.0|        70|      1|  plymouth satellite|  PLYMOUTH SATELLITE|  plymouth satellite|\n",
            "|16.0|         8|        304.0|      150.0|  3433.|         12.0|        70|      1|       amc rebel sst|       AMC REBEL SST|       amc rebel sst|\n",
            "|17.0|         8|        302.0|      140.0|  3449.|         10.5|        70|      1|         ford torino|         FORD TORINO|         ford torino|\n",
            "+----+----------+-------------+-----------+-------+-------------+----------+-------+--------------------+--------------------+--------------------+\n",
            "only showing top 5 rows\n",
            "\n"
          ]
        }
      ]
    },
    {
      "cell_type": "code",
      "source": [
        "#Convert a DataFrame column to a Python list\n",
        "names = auto_df.select(\"carname\").rdd.flatMap(lambda x: x).collect()\n",
        "print(str(names[:10]))"
      ],
      "metadata": {
        "colab": {
          "base_uri": "https://localhost:8080/"
        },
        "id": "ZDRsEhLgH8NV",
        "outputId": "696743ca-e90f-460c-a5e3-656123af29bb"
      },
      "execution_count": 38,
      "outputs": [
        {
          "output_type": "stream",
          "name": "stdout",
          "text": [
            "['chevrolet chevelle malibu', 'buick skylark 320', 'plymouth satellite', 'amc rebel sst', 'ford torino', 'ford galaxie 500', 'chevrolet impala', 'plymouth fury iii', 'pontiac catalina', 'amc ambassador dpl']\n"
          ]
        }
      ]
    },
    {
      "cell_type": "code",
      "source": [
        "#Convert a scalar query to a Python value\n",
        "average = auto_df.agg(dict(mpg=\"avg\")).first()[0]\n",
        "print(str(average))"
      ],
      "metadata": {
        "colab": {
          "base_uri": "https://localhost:8080/"
        },
        "id": "prqarn5WImcg",
        "outputId": "8db92848-04a3-49c8-e9bc-5bafbf102df8"
      },
      "execution_count": 39,
      "outputs": [
        {
          "output_type": "stream",
          "name": "stdout",
          "text": [
            "23.514572864321615\n"
          ]
        }
      ]
    },
    {
      "cell_type": "code",
      "source": [
        "#Consume a DataFrame row-wise as Python dictionaries\n",
        "first_three = auto_df.limit(3)\n",
        "for row in first_three.collect():\n",
        "    my_dict = row.asDict()\n",
        "    print(my_dict)"
      ],
      "metadata": {
        "colab": {
          "base_uri": "https://localhost:8080/"
        },
        "id": "lrBxhfBEI2lY",
        "outputId": "a7428a0b-2966-4ca7-a40c-8560ea14beeb"
      },
      "execution_count": 40,
      "outputs": [
        {
          "output_type": "stream",
          "name": "stdout",
          "text": [
            "{'mpg': '18.0', 'cylinders': '8', 'displacement': '307.0', 'horsepower': '130.0', 'weight': '3504.', 'acceleration': '12.0', 'modelyear': '70', 'origin': '1', 'carname': 'chevrolet chevelle malibu', 'upper': 'CHEVROLET CHEVELLE MALIBU', 'lower': 'chevrolet chevelle malibu'}\n",
            "{'mpg': '15.0', 'cylinders': '8', 'displacement': '350.0', 'horsepower': '165.0', 'weight': '3693.', 'acceleration': '11.5', 'modelyear': '70', 'origin': '1', 'carname': 'buick skylark 320', 'upper': 'BUICK SKYLARK 320', 'lower': 'buick skylark 320'}\n",
            "{'mpg': '18.0', 'cylinders': '8', 'displacement': '318.0', 'horsepower': '150.0', 'weight': '3436.', 'acceleration': '11.0', 'modelyear': '70', 'origin': '1', 'carname': 'plymouth satellite', 'upper': 'PLYMOUTH SATELLITE', 'lower': 'plymouth satellite'}\n"
          ]
        }
      ]
    },
    {
      "cell_type": "code",
      "source": [
        "#Select particular columns from a DataFrame\n",
        "df = auto_df.select([\"mpg\", \"cylinders\", \"displacement\"])\n",
        "df.show(5)"
      ],
      "metadata": {
        "colab": {
          "base_uri": "https://localhost:8080/"
        },
        "id": "xBckbF89I7aJ",
        "outputId": "dfb4426b-61e7-4f90-b5ea-670d0c4e5b23"
      },
      "execution_count": 42,
      "outputs": [
        {
          "output_type": "stream",
          "name": "stdout",
          "text": [
            "+----+---------+------------+\n",
            "| mpg|cylinders|displacement|\n",
            "+----+---------+------------+\n",
            "|18.0|        8|       307.0|\n",
            "|15.0|        8|       350.0|\n",
            "|18.0|        8|       318.0|\n",
            "|16.0|        8|       304.0|\n",
            "|17.0|        8|       302.0|\n",
            "+----+---------+------------+\n",
            "only showing top 5 rows\n",
            "\n"
          ]
        }
      ]
    },
    {
      "cell_type": "code",
      "source": [
        "#Create an empty dataframe with a specified schema\n",
        "from pyspark.sql.types import StructField, StructType, LongType, StringType\n",
        "\n",
        "schema = StructType(\n",
        "    [\n",
        "        StructField(\"my_id\", LongType(), True),\n",
        "        StructField(\"my_string\", StringType(), True),\n",
        "    ]\n",
        ")\n",
        "df = spark.createDataFrame([], schema)\n",
        "df.show()\n",
        ""
      ],
      "metadata": {
        "colab": {
          "base_uri": "https://localhost:8080/"
        },
        "id": "mYNkvO90JEdH",
        "outputId": "d15aeeba-c803-47c6-9d5f-3eebcce7ebbb"
      },
      "execution_count": 43,
      "outputs": [
        {
          "output_type": "stream",
          "name": "stdout",
          "text": [
            "+-----+---------+\n",
            "|my_id|my_string|\n",
            "+-----+---------+\n",
            "+-----+---------+\n",
            "\n"
          ]
        }
      ]
    },
    {
      "cell_type": "code",
      "source": [
        "#Create a constant dataframe\n",
        "import datetime\n",
        "from pyspark.sql.types import (\n",
        "    StructField,\n",
        "    StructType,\n",
        "    LongType,\n",
        "    StringType,\n",
        "    TimestampType,\n",
        ")\n",
        "\n",
        "schema = StructType(\n",
        "    [\n",
        "        StructField(\"my_id\", LongType(), True),\n",
        "        StructField(\"my_string\", StringType(), True),\n",
        "        StructField(\"my_timestamp\", TimestampType(), True),\n",
        "    ]\n",
        ")\n",
        "df = spark.createDataFrame(\n",
        "    [\n",
        "        (1, \"foo\", datetime.datetime.strptime(\"2021-01-01\", \"%Y-%m-%d\")),\n",
        "        (2, \"bar\", datetime.datetime.strptime(\"2021-01-02\", \"%Y-%m-%d\")),\n",
        "    ],\n",
        "    schema,\n",
        ")\n",
        "df.show()"
      ],
      "metadata": {
        "colab": {
          "base_uri": "https://localhost:8080/"
        },
        "id": "qfaOnLOWJJ3_",
        "outputId": "845d0601-7e60-4f6b-f6c0-6c540879e0f5"
      },
      "execution_count": 44,
      "outputs": [
        {
          "output_type": "stream",
          "name": "stdout",
          "text": [
            "+-----+---------+-------------------+\n",
            "|my_id|my_string|       my_timestamp|\n",
            "+-----+---------+-------------------+\n",
            "|    1|      foo|2021-01-01 00:00:00|\n",
            "|    2|      bar|2021-01-02 00:00:00|\n",
            "+-----+---------+-------------------+\n",
            "\n"
          ]
        }
      ]
    },
    {
      "cell_type": "code",
      "source": [
        "#Convert String to Double\n",
        "from pyspark.sql.functions import col\n",
        "\n",
        "df = auto_df.withColumn(\"horsepower\", col(\"horsepower\").cast(\"double\"))\n",
        "df.show(5)"
      ],
      "metadata": {
        "colab": {
          "base_uri": "https://localhost:8080/"
        },
        "id": "QpUSLND7JP2Z",
        "outputId": "6643ae17-f96b-4620-8da5-34bc52d0a165"
      },
      "execution_count": 46,
      "outputs": [
        {
          "output_type": "stream",
          "name": "stdout",
          "text": [
            "+----+---------+------------+----------+------+------------+---------+------+--------------------+--------------------+--------------------+\n",
            "| mpg|cylinders|displacement|horsepower|weight|acceleration|modelyear|origin|             carname|               upper|               lower|\n",
            "+----+---------+------------+----------+------+------------+---------+------+--------------------+--------------------+--------------------+\n",
            "|18.0|        8|       307.0|     130.0| 3504.|        12.0|       70|     1|chevrolet chevell...|CHEVROLET CHEVELL...|chevrolet chevell...|\n",
            "|15.0|        8|       350.0|     165.0| 3693.|        11.5|       70|     1|   buick skylark 320|   BUICK SKYLARK 320|   buick skylark 320|\n",
            "|18.0|        8|       318.0|     150.0| 3436.|        11.0|       70|     1|  plymouth satellite|  PLYMOUTH SATELLITE|  plymouth satellite|\n",
            "|16.0|        8|       304.0|     150.0| 3433.|        12.0|       70|     1|       amc rebel sst|       AMC REBEL SST|       amc rebel sst|\n",
            "|17.0|        8|       302.0|     140.0| 3449.|        10.5|       70|     1|         ford torino|         FORD TORINO|         ford torino|\n",
            "+----+---------+------------+----------+------+------------+---------+------+--------------------+--------------------+--------------------+\n",
            "only showing top 5 rows\n",
            "\n"
          ]
        }
      ]
    },
    {
      "cell_type": "code",
      "source": [
        "#Convert String to Integer\n",
        "from pyspark.sql.functions import col\n",
        "\n",
        "df = auto_df.withColumn(\"horsepower\", col(\"horsepower\").cast(\"int\"))\n",
        "df.show(5)"
      ],
      "metadata": {
        "colab": {
          "base_uri": "https://localhost:8080/"
        },
        "id": "bu2uSWRrJXcc",
        "outputId": "af713e75-365b-45c9-d729-d851c056acd6"
      },
      "execution_count": 48,
      "outputs": [
        {
          "output_type": "stream",
          "name": "stdout",
          "text": [
            "+----+---------+------------+----------+------+------------+---------+------+--------------------+--------------------+--------------------+\n",
            "| mpg|cylinders|displacement|horsepower|weight|acceleration|modelyear|origin|             carname|               upper|               lower|\n",
            "+----+---------+------------+----------+------+------------+---------+------+--------------------+--------------------+--------------------+\n",
            "|18.0|        8|       307.0|       130| 3504.|        12.0|       70|     1|chevrolet chevell...|CHEVROLET CHEVELL...|chevrolet chevell...|\n",
            "|15.0|        8|       350.0|       165| 3693.|        11.5|       70|     1|   buick skylark 320|   BUICK SKYLARK 320|   buick skylark 320|\n",
            "|18.0|        8|       318.0|       150| 3436.|        11.0|       70|     1|  plymouth satellite|  PLYMOUTH SATELLITE|  plymouth satellite|\n",
            "|16.0|        8|       304.0|       150| 3433.|        12.0|       70|     1|       amc rebel sst|       AMC REBEL SST|       amc rebel sst|\n",
            "|17.0|        8|       302.0|       140| 3449.|        10.5|       70|     1|         ford torino|         FORD TORINO|         ford torino|\n",
            "+----+---------+------------+----------+------+------------+---------+------+--------------------+--------------------+--------------------+\n",
            "only showing top 5 rows\n",
            "\n"
          ]
        }
      ]
    },
    {
      "cell_type": "code",
      "source": [
        "#Get the size of a DataFrame\n",
        "print(\"{} rows\".format(auto_df.count()))\n",
        "print(\"{} columns\".format(len(auto_df.columns)))"
      ],
      "metadata": {
        "colab": {
          "base_uri": "https://localhost:8080/"
        },
        "id": "JpN5hgOxJfiw",
        "outputId": "4ef1180e-e328-4302-d889-4688c6db8ffe"
      },
      "execution_count": 49,
      "outputs": [
        {
          "output_type": "stream",
          "name": "stdout",
          "text": [
            "398 rows\n",
            "11 columns\n"
          ]
        }
      ]
    },
    {
      "cell_type": "code",
      "source": [
        "#Get a DataFrame's number of partitions\n",
        "print(\"{} partition(s)\".format(auto_df.rdd.getNumPartitions()))"
      ],
      "metadata": {
        "colab": {
          "base_uri": "https://localhost:8080/"
        },
        "id": "Rsm63HswJp8X",
        "outputId": "bd2357ea-9666-43de-ac23-acf1ff4191ec"
      },
      "execution_count": 50,
      "outputs": [
        {
          "output_type": "stream",
          "name": "stdout",
          "text": [
            "1 partition(s)\n"
          ]
        }
      ]
    },
    {
      "cell_type": "code",
      "source": [
        "#Get data types of a DataFrame's columns\n",
        "print(auto_df.dtypes)"
      ],
      "metadata": {
        "colab": {
          "base_uri": "https://localhost:8080/"
        },
        "id": "MHn2N1gpJt3J",
        "outputId": "b3888adc-3d7c-4647-f1a8-7cb96dfa4617"
      },
      "execution_count": 51,
      "outputs": [
        {
          "output_type": "stream",
          "name": "stdout",
          "text": [
            "[('mpg', 'string'), ('cylinders', 'string'), ('displacement', 'string'), ('horsepower', 'string'), ('weight', 'string'), ('acceleration', 'string'), ('modelyear', 'string'), ('origin', 'string'), ('carname', 'string'), ('upper', 'string'), ('lower', 'string')]\n"
          ]
        }
      ]
    },
    {
      "cell_type": "code",
      "source": [
        "#Convert an RDD to Data Frame\n",
        "from pyspark.sql import Row\n",
        "\n",
        "# First, get the RDD from the DataFrame.\n",
        "rdd = auto_df.rdd\n",
        "\n",
        "# This converts it back to an RDD with no changes.\n",
        "df = rdd.map(lambda x: Row(**x.asDict())).toDF()\n",
        "\n",
        "# This changes the rows before creating the DataFrame.\n",
        "df = rdd.map(\n",
        "    lambda x: Row(**{k: v * 2 for (k, v) in x.asDict().items()})\n",
        ").toDF()\n",
        "df.show(5)"
      ],
      "metadata": {
        "colab": {
          "base_uri": "https://localhost:8080/"
        },
        "id": "HoGy3uPEJxo4",
        "outputId": "ef8b58cc-4f4d-487b-de8d-69a498401aef"
      },
      "execution_count": 52,
      "outputs": [
        {
          "output_type": "stream",
          "name": "stdout",
          "text": [
            "+--------+---------+------------+----------+----------+------------+---------+------+--------------------+--------------------+--------------------+\n",
            "|     mpg|cylinders|displacement|horsepower|    weight|acceleration|modelyear|origin|             carname|               upper|               lower|\n",
            "+--------+---------+------------+----------+----------+------------+---------+------+--------------------+--------------------+--------------------+\n",
            "|18.018.0|       88|  307.0307.0|130.0130.0|3504.3504.|    12.012.0|     7070|    11|chevrolet chevell...|CHEVROLET CHEVELL...|chevrolet chevell...|\n",
            "|15.015.0|       88|  350.0350.0|165.0165.0|3693.3693.|    11.511.5|     7070|    11|buick skylark 320...|BUICK SKYLARK 320...|buick skylark 320...|\n",
            "|18.018.0|       88|  318.0318.0|150.0150.0|3436.3436.|    11.011.0|     7070|    11|plymouth satellit...|PLYMOUTH SATELLIT...|plymouth satellit...|\n",
            "|16.016.0|       88|  304.0304.0|150.0150.0|3433.3433.|    12.012.0|     7070|    11|amc rebel sstamc ...|AMC REBEL SSTAMC ...|amc rebel sstamc ...|\n",
            "|17.017.0|       88|  302.0302.0|140.0140.0|3449.3449.|    10.510.5|     7070|    11|ford torinoford t...|FORD TORINOFORD T...|ford torinoford t...|\n",
            "+--------+---------+------------+----------+----------+------------+---------+------+--------------------+--------------------+--------------------+\n",
            "only showing top 5 rows\n",
            "\n"
          ]
        }
      ]
    },
    {
      "cell_type": "code",
      "source": [
        "#Print the contents of an RDD\n",
        "rdd = auto_df.rdd\n",
        "print(rdd.take(10))"
      ],
      "metadata": {
        "colab": {
          "base_uri": "https://localhost:8080/"
        },
        "id": "XOu9hvyCJ-jx",
        "outputId": "d910c083-5e7e-431f-9397-e7b61377a019"
      },
      "execution_count": 53,
      "outputs": [
        {
          "output_type": "stream",
          "name": "stdout",
          "text": [
            "[Row(mpg='18.0', cylinders='8', displacement='307.0', horsepower='130.0', weight='3504.', acceleration='12.0', modelyear='70', origin='1', carname='chevrolet chevelle malibu', upper='CHEVROLET CHEVELLE MALIBU', lower='chevrolet chevelle malibu'), Row(mpg='15.0', cylinders='8', displacement='350.0', horsepower='165.0', weight='3693.', acceleration='11.5', modelyear='70', origin='1', carname='buick skylark 320', upper='BUICK SKYLARK 320', lower='buick skylark 320'), Row(mpg='18.0', cylinders='8', displacement='318.0', horsepower='150.0', weight='3436.', acceleration='11.0', modelyear='70', origin='1', carname='plymouth satellite', upper='PLYMOUTH SATELLITE', lower='plymouth satellite'), Row(mpg='16.0', cylinders='8', displacement='304.0', horsepower='150.0', weight='3433.', acceleration='12.0', modelyear='70', origin='1', carname='amc rebel sst', upper='AMC REBEL SST', lower='amc rebel sst'), Row(mpg='17.0', cylinders='8', displacement='302.0', horsepower='140.0', weight='3449.', acceleration='10.5', modelyear='70', origin='1', carname='ford torino', upper='FORD TORINO', lower='ford torino'), Row(mpg='15.0', cylinders='8', displacement='429.0', horsepower='198.0', weight='4341.', acceleration='10.0', modelyear='70', origin='1', carname='ford galaxie 500', upper='FORD GALAXIE 500', lower='ford galaxie 500'), Row(mpg='14.0', cylinders='8', displacement='454.0', horsepower='220.0', weight='4354.', acceleration='9.0', modelyear='70', origin='1', carname='chevrolet impala', upper='CHEVROLET IMPALA', lower='chevrolet impala'), Row(mpg='14.0', cylinders='8', displacement='440.0', horsepower='215.0', weight='4312.', acceleration='8.5', modelyear='70', origin='1', carname='plymouth fury iii', upper='PLYMOUTH FURY III', lower='plymouth fury iii'), Row(mpg='14.0', cylinders='8', displacement='455.0', horsepower='225.0', weight='4425.', acceleration='10.0', modelyear='70', origin='1', carname='pontiac catalina', upper='PONTIAC CATALINA', lower='pontiac catalina'), Row(mpg='15.0', cylinders='8', displacement='390.0', horsepower='190.0', weight='3850.', acceleration='8.5', modelyear='70', origin='1', carname='amc ambassador dpl', upper='AMC AMBASSADOR DPL', lower='amc ambassador dpl')]\n"
          ]
        }
      ]
    },
    {
      "cell_type": "code",
      "source": [
        "#Print the contents of a DataFrame\n",
        "auto_df.show(10)\n",
        "df.show(5)"
      ],
      "metadata": {
        "colab": {
          "base_uri": "https://localhost:8080/"
        },
        "id": "Rz3L285uKDhf",
        "outputId": "ec111742-0f46-448f-8e23-2a2c1a96335d"
      },
      "execution_count": 55,
      "outputs": [
        {
          "output_type": "stream",
          "name": "stdout",
          "text": [
            "+----+---------+------------+----------+------+------------+---------+------+--------------------+--------------------+--------------------+\n",
            "| mpg|cylinders|displacement|horsepower|weight|acceleration|modelyear|origin|             carname|               upper|               lower|\n",
            "+----+---------+------------+----------+------+------------+---------+------+--------------------+--------------------+--------------------+\n",
            "|18.0|        8|       307.0|     130.0| 3504.|        12.0|       70|     1|chevrolet chevell...|CHEVROLET CHEVELL...|chevrolet chevell...|\n",
            "|15.0|        8|       350.0|     165.0| 3693.|        11.5|       70|     1|   buick skylark 320|   BUICK SKYLARK 320|   buick skylark 320|\n",
            "|18.0|        8|       318.0|     150.0| 3436.|        11.0|       70|     1|  plymouth satellite|  PLYMOUTH SATELLITE|  plymouth satellite|\n",
            "|16.0|        8|       304.0|     150.0| 3433.|        12.0|       70|     1|       amc rebel sst|       AMC REBEL SST|       amc rebel sst|\n",
            "|17.0|        8|       302.0|     140.0| 3449.|        10.5|       70|     1|         ford torino|         FORD TORINO|         ford torino|\n",
            "|15.0|        8|       429.0|     198.0| 4341.|        10.0|       70|     1|    ford galaxie 500|    FORD GALAXIE 500|    ford galaxie 500|\n",
            "|14.0|        8|       454.0|     220.0| 4354.|         9.0|       70|     1|    chevrolet impala|    CHEVROLET IMPALA|    chevrolet impala|\n",
            "|14.0|        8|       440.0|     215.0| 4312.|         8.5|       70|     1|   plymouth fury iii|   PLYMOUTH FURY III|   plymouth fury iii|\n",
            "|14.0|        8|       455.0|     225.0| 4425.|        10.0|       70|     1|    pontiac catalina|    PONTIAC CATALINA|    pontiac catalina|\n",
            "|15.0|        8|       390.0|     190.0| 3850.|         8.5|       70|     1|  amc ambassador dpl|  AMC AMBASSADOR DPL|  amc ambassador dpl|\n",
            "+----+---------+------------+----------+------+------------+---------+------+--------------------+--------------------+--------------------+\n",
            "only showing top 10 rows\n",
            "\n",
            "+--------+---------+------------+----------+----------+------------+---------+------+--------------------+--------------------+--------------------+\n",
            "|     mpg|cylinders|displacement|horsepower|    weight|acceleration|modelyear|origin|             carname|               upper|               lower|\n",
            "+--------+---------+------------+----------+----------+------------+---------+------+--------------------+--------------------+--------------------+\n",
            "|18.018.0|       88|  307.0307.0|130.0130.0|3504.3504.|    12.012.0|     7070|    11|chevrolet chevell...|CHEVROLET CHEVELL...|chevrolet chevell...|\n",
            "|15.015.0|       88|  350.0350.0|165.0165.0|3693.3693.|    11.511.5|     7070|    11|buick skylark 320...|BUICK SKYLARK 320...|buick skylark 320...|\n",
            "|18.018.0|       88|  318.0318.0|150.0150.0|3436.3436.|    11.011.0|     7070|    11|plymouth satellit...|PLYMOUTH SATELLIT...|plymouth satellit...|\n",
            "|16.016.0|       88|  304.0304.0|150.0150.0|3433.3433.|    12.012.0|     7070|    11|amc rebel sstamc ...|AMC REBEL SSTAMC ...|amc rebel sstamc ...|\n",
            "|17.017.0|       88|  302.0302.0|140.0140.0|3449.3449.|    10.510.5|     7070|    11|ford torinoford t...|FORD TORINOFORD T...|ford torinoford t...|\n",
            "+--------+---------+------------+----------+----------+------------+---------+------+--------------------+--------------------+--------------------+\n",
            "only showing top 5 rows\n",
            "\n"
          ]
        }
      ]
    },
    {
      "cell_type": "code",
      "source": [
        "#Process each row of a DataFrame\n",
        "import os\n",
        "\n",
        "def foreach_function(row):\n",
        "    if row.horsepower is not None:\n",
        "        os.system(\"echo \" + row.horsepower)\n",
        "\n",
        "auto_df.foreach(foreach_function)\n",
        "print(auto_df)"
      ],
      "metadata": {
        "colab": {
          "base_uri": "https://localhost:8080/"
        },
        "id": "HIuwqGt6KLky",
        "outputId": "4b90d979-73df-46d0-b73f-7aa437b7b04f"
      },
      "execution_count": 57,
      "outputs": [
        {
          "output_type": "stream",
          "name": "stdout",
          "text": [
            "DataFrame[mpg: string, cylinders: string, displacement: string, horsepower: string, weight: string, acceleration: string, modelyear: string, origin: string, carname: string, upper: string, lower: string]\n"
          ]
        }
      ]
    },
    {
      "cell_type": "code",
      "source": [
        "#DataFrame Map example\n",
        "def map_function(row):\n",
        "    if row.horsepower is not None:\n",
        "        return [float(row.horsepower) * 10]\n",
        "    else:\n",
        "        return [None]\n",
        "\n",
        "df = auto_df.rdd.map(map_function).toDF()\n",
        "df.show()"
      ],
      "metadata": {
        "colab": {
          "base_uri": "https://localhost:8080/"
        },
        "id": "sblSbjCKKYS-",
        "outputId": "dc506e1c-c4e4-46bd-c360-192a7f16bc39"
      },
      "execution_count": 58,
      "outputs": [
        {
          "output_type": "stream",
          "name": "stdout",
          "text": [
            "+------+\n",
            "|    _1|\n",
            "+------+\n",
            "|1300.0|\n",
            "|1650.0|\n",
            "|1500.0|\n",
            "|1500.0|\n",
            "|1400.0|\n",
            "|1980.0|\n",
            "|2200.0|\n",
            "|2150.0|\n",
            "|2250.0|\n",
            "|1900.0|\n",
            "|1700.0|\n",
            "|1600.0|\n",
            "|1500.0|\n",
            "|2250.0|\n",
            "| 950.0|\n",
            "| 950.0|\n",
            "| 970.0|\n",
            "| 850.0|\n",
            "| 880.0|\n",
            "| 460.0|\n",
            "+------+\n",
            "only showing top 20 rows\n",
            "\n"
          ]
        }
      ]
    },
    {
      "cell_type": "code",
      "source": [
        "#DataFrame Flatmap example\n",
        "from pyspark.sql.types import Row\n",
        "\n",
        "def flatmap_function(row):\n",
        "    if row.cylinders is not None:\n",
        "        return list(range(int(row.cylinders)))\n",
        "    else:\n",
        "        return [None]\n",
        "\n",
        "rdd = auto_df.rdd.flatMap(flatmap_function)\n",
        "row = Row(\"val\")\n",
        "df = rdd.map(row).toDF()\n",
        "df.show()"
      ],
      "metadata": {
        "colab": {
          "base_uri": "https://localhost:8080/"
        },
        "id": "ws1SOyv_Kr-e",
        "outputId": "f5f0f2bf-d1a4-433c-be3b-14f9423b6c51"
      },
      "execution_count": 59,
      "outputs": [
        {
          "output_type": "stream",
          "name": "stdout",
          "text": [
            "+---+\n",
            "|val|\n",
            "+---+\n",
            "|  0|\n",
            "|  1|\n",
            "|  2|\n",
            "|  3|\n",
            "|  4|\n",
            "|  5|\n",
            "|  6|\n",
            "|  7|\n",
            "|  0|\n",
            "|  1|\n",
            "|  2|\n",
            "|  3|\n",
            "|  4|\n",
            "|  5|\n",
            "|  6|\n",
            "|  7|\n",
            "|  0|\n",
            "|  1|\n",
            "|  2|\n",
            "|  3|\n",
            "+---+\n",
            "only showing top 20 rows\n",
            "\n"
          ]
        }
      ]
    },
    {
      "cell_type": "code",
      "source": [
        "#Create a custom UDF\n",
        "from pyspark.sql.functions import col, udf\n",
        "from pyspark.sql.types import StringType\n",
        "\n",
        "first_word_udf = udf(lambda x: x.split()[0], StringType())\n",
        "df = auto_df.withColumn(\"manufacturer\", first_word_udf(col(\"carname\")))\n",
        "df.show(5)\n",
        ""
      ],
      "metadata": {
        "colab": {
          "base_uri": "https://localhost:8080/"
        },
        "id": "2CnCVFaaKzvI",
        "outputId": "6d292f2a-dd7f-4314-ed4f-7a0ea4151075"
      },
      "execution_count": 61,
      "outputs": [
        {
          "output_type": "stream",
          "name": "stdout",
          "text": [
            "+----+---------+------------+----------+------+------------+---------+------+--------------------+--------------------+--------------------+------------+\n",
            "| mpg|cylinders|displacement|horsepower|weight|acceleration|modelyear|origin|             carname|               upper|               lower|manufacturer|\n",
            "+----+---------+------------+----------+------+------------+---------+------+--------------------+--------------------+--------------------+------------+\n",
            "|18.0|        8|       307.0|     130.0| 3504.|        12.0|       70|     1|chevrolet chevell...|CHEVROLET CHEVELL...|chevrolet chevell...|   chevrolet|\n",
            "|15.0|        8|       350.0|     165.0| 3693.|        11.5|       70|     1|   buick skylark 320|   BUICK SKYLARK 320|   buick skylark 320|       buick|\n",
            "|18.0|        8|       318.0|     150.0| 3436.|        11.0|       70|     1|  plymouth satellite|  PLYMOUTH SATELLITE|  plymouth satellite|    plymouth|\n",
            "|16.0|        8|       304.0|     150.0| 3433.|        12.0|       70|     1|       amc rebel sst|       AMC REBEL SST|       amc rebel sst|         amc|\n",
            "|17.0|        8|       302.0|     140.0| 3449.|        10.5|       70|     1|         ford torino|         FORD TORINO|         ford torino|        ford|\n",
            "+----+---------+------------+----------+------+------------+---------+------+--------------------+--------------------+--------------------+------------+\n",
            "only showing top 5 rows\n",
            "\n"
          ]
        }
      ]
    }
  ]
}