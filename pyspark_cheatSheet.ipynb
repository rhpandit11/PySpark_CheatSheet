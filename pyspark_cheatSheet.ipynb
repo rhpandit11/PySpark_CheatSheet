{
  "nbformat": 4,
  "nbformat_minor": 0,
  "metadata": {
    "colab": {
      "provenance": [],
      "mount_file_id": "1IMF24OMAGbBuc7sCfeB07ivorx4aeMhk",
      "authorship_tag": "ABX9TyOVKB9DJCwvxCEPeWQQ6uxh",
      "include_colab_link": true
    },
    "kernelspec": {
      "name": "python3",
      "display_name": "Python 3"
    },
    "language_info": {
      "name": "python"
    }
  },
  "cells": [
    {
      "cell_type": "markdown",
      "metadata": {
        "id": "view-in-github",
        "colab_type": "text"
      },
      "source": [
        "<a href=\"https://colab.research.google.com/github/rhpandit11/PySpark_CheatSheet/blob/main/pyspark_cheatSheet.ipynb\" target=\"_parent\"><img src=\"https://colab.research.google.com/assets/colab-badge.svg\" alt=\"Open In Colab\"/></a>"
      ]
    },
    {
      "cell_type": "code",
      "execution_count": 1,
      "metadata": {
        "id": "3kcNDV9Y0aiT",
        "colab": {
          "base_uri": "https://localhost:8080/"
        },
        "outputId": "069b7233-0e9e-4ff0-de97-b0b10d95cdba"
      },
      "outputs": [
        {
          "output_type": "stream",
          "name": "stdout",
          "text": [
            "Collecting pyspark\n",
            "  Downloading pyspark-3.5.1.tar.gz (317.0 MB)\n",
            "\u001b[2K     \u001b[90m━━━━━━━━━━━━━━━━━━━━━━━━━━━━━━━━━━━━━━━━\u001b[0m \u001b[32m317.0/317.0 MB\u001b[0m \u001b[31m4.5 MB/s\u001b[0m eta \u001b[36m0:00:00\u001b[0m\n",
            "\u001b[?25h  Preparing metadata (setup.py) ... \u001b[?25l\u001b[?25hdone\n",
            "Requirement already satisfied: py4j==0.10.9.7 in /usr/local/lib/python3.10/dist-packages (from pyspark) (0.10.9.7)\n",
            "Building wheels for collected packages: pyspark\n",
            "  Building wheel for pyspark (setup.py) ... \u001b[?25l\u001b[?25hdone\n",
            "  Created wheel for pyspark: filename=pyspark-3.5.1-py2.py3-none-any.whl size=317488491 sha256=6bf3c1fb055c1b0a9679018437912b10f06a2354dbe470d57709698410ea4e93\n",
            "  Stored in directory: /root/.cache/pip/wheels/80/1d/60/2c256ed38dddce2fdd93be545214a63e02fbd8d74fb0b7f3a6\n",
            "Successfully built pyspark\n",
            "Installing collected packages: pyspark\n",
            "Successfully installed pyspark-3.5.1\n"
          ]
        }
      ],
      "source": [
        "!pip install pyspark"
      ]
    },
    {
      "cell_type": "code",
      "source": [
        "from pyspark.sql import SparkSession\n",
        "\n",
        "spark = SparkSession.builder\\\n",
        "        .master(\"local[*]\")\\\n",
        "        .appName('pyspark_cheatsheet')\\\n",
        "        .getOrCreate()"
      ],
      "metadata": {
        "id": "ym7dYukK1t99"
      },
      "execution_count": 2,
      "outputs": []
    },
    {
      "cell_type": "markdown",
      "source": [
        "\n",
        "Loading data stored in filesystems or databases, and saving it.\n"
      ],
      "metadata": {
        "id": "tVbF6KpU182x"
      }
    },
    {
      "cell_type": "code",
      "source": [
        "#Load a DataFrame from CSV\n",
        "df = spark.read.format(\"csv\").option(\"header\", True).load(\"/content/drive/MyDrive/pyspark/practice-file/auto-mpg.csv\")\n",
        "df.show(5)"
      ],
      "metadata": {
        "colab": {
          "base_uri": "https://localhost:8080/"
        },
        "id": "dR6CUX8312T5",
        "outputId": "75eb597d-a2a9-4f8d-f4c2-9fa06e6996b8"
      },
      "execution_count": 3,
      "outputs": [
        {
          "output_type": "stream",
          "name": "stdout",
          "text": [
            "+----+---------+------------+----------+------+------------+---------+------+--------------------+\n",
            "| mpg|cylinders|displacement|horsepower|weight|acceleration|modelyear|origin|             carname|\n",
            "+----+---------+------------+----------+------+------------+---------+------+--------------------+\n",
            "|18.0|        8|       307.0|     130.0| 3504.|        12.0|       70|     1|chevrolet chevell...|\n",
            "|15.0|        8|       350.0|     165.0| 3693.|        11.5|       70|     1|   buick skylark 320|\n",
            "|18.0|        8|       318.0|     150.0| 3436.|        11.0|       70|     1|  plymouth satellite|\n",
            "|16.0|        8|       304.0|     150.0| 3433.|        12.0|       70|     1|       amc rebel sst|\n",
            "|17.0|        8|       302.0|     140.0| 3449.|        10.5|       70|     1|         ford torino|\n",
            "+----+---------+------------+----------+------+------------+---------+------+--------------------+\n",
            "only showing top 5 rows\n",
            "\n"
          ]
        }
      ]
    }
  ]
}